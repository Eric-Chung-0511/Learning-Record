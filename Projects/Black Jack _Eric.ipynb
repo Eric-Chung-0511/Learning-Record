{
 "cells": [
  {
   "cell_type": "markdown",
   "id": "e152e0ca",
   "metadata": {},
   "source": [
    "## Game Play\n",
    "To play a hand of Blackjack the following steps must be followed:\n",
    "1. Create a deck of 52 cards\n",
    "2. Shuffle the deck\n",
    "3. Ask the Player for their bet\n",
    "4. Make sure that the Player's bet does not exceed their available chips\n",
    "5. Deal two cards to the Dealer and two cards to the Player\n",
    "6. Show only one of the Dealer's cards, the other remains hidden\n",
    "7. Show both of the Player's cards\n",
    "8. Ask the Player if they wish to Hit, and take another card\n",
    "9. If the Player's hand doesn't Bust (go over 21), ask if they'd like to Hit again.\n",
    "10. If a Player Stands, play the Dealer's hand. The dealer will always Hit until the Dealer's value meets or exceeds 17\n",
    "11. Determine the winner and adjust the Player's chips accordingly\n",
    "12. Ask the Player if they'd like to play again"
   ]
  },
  {
   "cell_type": "code",
   "execution_count": 1,
   "id": "18e1e99f",
   "metadata": {},
   "outputs": [],
   "source": [
    "# Global value\n",
    "\n",
    "import random\n",
    "\n",
    "suits = ('Hearts', 'Diamonds', 'Spades', 'Clubs')\n",
    "\n",
    "ranks = ('Two', 'Three', 'Four', 'Five', 'Six', 'Seven', 'Eight', 'Nine', 'Ten', 'Jack', 'Queen', 'King', 'Ace')\n",
    "\n",
    "values = {'Two':2, 'Three':3, 'Four':4, 'Five':5, 'Six':6, 'Seven':7, 'Eight':8, 'Nine':9, 'Ten':10, 'Jack':10,\n",
    "         'Queen':10, 'King':10, 'Ace':11}\n",
    "\n",
    "playing = True"
   ]
  },
  {
   "cell_type": "markdown",
   "id": "bb4dc131",
   "metadata": {},
   "source": [
    "## Class Card"
   ]
  },
  {
   "cell_type": "code",
   "execution_count": 2,
   "id": "de7a1c51",
   "metadata": {},
   "outputs": [],
   "source": [
    "class Card:\n",
    "    \n",
    "    def __init__(self,suit,rank):\n",
    "        self.suit = suit\n",
    "        self.rank = rank\n",
    "        \n",
    "    def __str__(self):\n",
    "        return self.rank + ' of ' + self.suit"
   ]
  },
  {
   "cell_type": "code",
   "execution_count": 3,
   "id": "28e5bc07",
   "metadata": {},
   "outputs": [],
   "source": [
    "test_card = Card('Spades', 'Two')"
   ]
  },
  {
   "cell_type": "code",
   "execution_count": 4,
   "id": "f518df75",
   "metadata": {},
   "outputs": [
    {
     "name": "stdout",
     "output_type": "stream",
     "text": [
      "Two of Spades\n"
     ]
    }
   ],
   "source": [
    "print(test_card)"
   ]
  },
  {
   "cell_type": "markdown",
   "id": "ae2d2a0d",
   "metadata": {},
   "source": [
    "## Class Deck"
   ]
  },
  {
   "cell_type": "code",
   "execution_count": 5,
   "id": "8e12fa65",
   "metadata": {},
   "outputs": [],
   "source": [
    "# 創建一整副牌\n",
    "class Deck:\n",
    "    \n",
    "    def __init__(self):\n",
    "        \n",
    "        self.all_cards = []\n",
    "        \n",
    "        for suit in suits:\n",
    "            for rank in ranks:\n",
    "                created_card = Card(suit,rank)\n",
    "                \n",
    "                self.all_cards.append(created_card)\n",
    "                \n",
    "    # start with empty string, contain all information about the cards\n",
    "    def __str__(self):\n",
    "        deck_compare = ''\n",
    "        for card in self.all_cards:\n",
    "            deck_compare += '\\n '+card.__str__()\n",
    "        return 'The deck has:' + deck_compare\n",
    "    \n",
    "    def shuffle(self):\n",
    "        random.shuffle(self.all_cards)\n",
    "        \n",
    "    # 遊戲開始後,電腦從原始牌堆中發牌給玩家與莊家\n",
    "    def deal(self):\n",
    "        single_card = self.all_cards.pop()\n",
    "        return single_card"
   ]
  },
  {
   "cell_type": "code",
   "execution_count": 6,
   "id": "77aa45c5",
   "metadata": {},
   "outputs": [],
   "source": [
    "test_deck = Deck()"
   ]
  },
  {
   "cell_type": "code",
   "execution_count": 7,
   "id": "a93f0b15",
   "metadata": {},
   "outputs": [
    {
     "name": "stdout",
     "output_type": "stream",
     "text": [
      "The deck has:\n",
      " Two of Hearts\n",
      " Three of Hearts\n",
      " Four of Hearts\n",
      " Five of Hearts\n",
      " Six of Hearts\n",
      " Seven of Hearts\n",
      " Eight of Hearts\n",
      " Nine of Hearts\n",
      " Ten of Hearts\n",
      " Jack of Hearts\n",
      " Queen of Hearts\n",
      " King of Hearts\n",
      " Ace of Hearts\n",
      " Two of Diamonds\n",
      " Three of Diamonds\n",
      " Four of Diamonds\n",
      " Five of Diamonds\n",
      " Six of Diamonds\n",
      " Seven of Diamonds\n",
      " Eight of Diamonds\n",
      " Nine of Diamonds\n",
      " Ten of Diamonds\n",
      " Jack of Diamonds\n",
      " Queen of Diamonds\n",
      " King of Diamonds\n",
      " Ace of Diamonds\n",
      " Two of Spades\n",
      " Three of Spades\n",
      " Four of Spades\n",
      " Five of Spades\n",
      " Six of Spades\n",
      " Seven of Spades\n",
      " Eight of Spades\n",
      " Nine of Spades\n",
      " Ten of Spades\n",
      " Jack of Spades\n",
      " Queen of Spades\n",
      " King of Spades\n",
      " Ace of Spades\n",
      " Two of Clubs\n",
      " Three of Clubs\n",
      " Four of Clubs\n",
      " Five of Clubs\n",
      " Six of Clubs\n",
      " Seven of Clubs\n",
      " Eight of Clubs\n",
      " Nine of Clubs\n",
      " Ten of Clubs\n",
      " Jack of Clubs\n",
      " Queen of Clubs\n",
      " King of Clubs\n",
      " Ace of Clubs\n"
     ]
    }
   ],
   "source": [
    "print(test_deck)"
   ]
  },
  {
   "cell_type": "markdown",
   "id": "4d303982",
   "metadata": {},
   "source": [
    "## Class Hand"
   ]
  },
  {
   "cell_type": "code",
   "execution_count": 8,
   "id": "92dab810",
   "metadata": {},
   "outputs": [],
   "source": [
    "class Hand:\n",
    "    \n",
    "    def __init__(self):\n",
    "        self.cards = []  # 手中的牌\n",
    "        self.value = 0  # 手中牌的總點數\n",
    "        self.aces = 0  # add attribute to track aces's value\n",
    "        \n",
    "    def add_card(self,card):  # 玩家與莊家拿到電腦發的牌後,添加至手牌中的動作\n",
    "        self.cards.append(card)  # 玩家要牌,每一回合抽牌 並添入手牌中\n",
    "        self.value += values[card.rank] # 加上新抽的牌的數\n",
    "        if card.rank == 'Ace':\n",
    "            self.aces += 1\n",
    "        self.adjust_for_ace()  # 每次添加牌後調整ace的數量\n",
    "        \n",
    "    # 如果手上牌的點數超過21,並拿到aces, aces值為1 (11-10), 並且扣除aces數量\n",
    "    def adjust_for_ace(self):\n",
    "        while self.value > 21 and self.aces:\n",
    "            self.value -= 10\n",
    "            self.aces -= 1"
   ]
  },
  {
   "cell_type": "markdown",
   "id": "46c86f76",
   "metadata": {},
   "source": [
    "## Class Chips"
   ]
  },
  {
   "cell_type": "code",
   "execution_count": 9,
   "id": "431e3bd6",
   "metadata": {},
   "outputs": [],
   "source": [
    "class Chips:\n",
    "    \n",
    "    def __init__(self,total=100):\n",
    "        self.total = total # 設立玩家初始籌碼為100\n",
    "        self.bet = 0   # 當前下注量\n",
    "    \n",
    "    def win_bet(self):\n",
    "        self.total += self.bet\n",
    "        \n",
    "    def lose_bet(self):\n",
    "        self.total -= self.bet"
   ]
  },
  {
   "cell_type": "code",
   "execution_count": 10,
   "id": "7d7f1df4",
   "metadata": {},
   "outputs": [],
   "source": [
    "#檢查玩家是否有下注超過目前擁有的籌碼\n",
    "\n",
    "def take_bet(chips):\n",
    "    \n",
    "    while True:\n",
    "        try:\n",
    "            chips.bet = int(input('How many chips do you want to bet? '))\n",
    "        \n",
    "        except ValueError:\n",
    "            print('A bet must be an integer!')\n",
    "        \n",
    "        else:\n",
    "            if chips.bet > chips.total:\n",
    "                print('You do not have enough chips, your current chips: ',chips.total)\n",
    "            else:\n",
    "                break\n",
    "        "
   ]
  },
  {
   "cell_type": "markdown",
   "id": "6fbf9bcf",
   "metadata": {},
   "source": [
    "## Def Hit"
   ]
  },
  {
   "cell_type": "code",
   "execution_count": 11,
   "id": "fa09085e",
   "metadata": {},
   "outputs": [],
   "source": [
    "# 要牌\n",
    "def hit(deck,hand):\n",
    "    \n",
    "    hand.add_card(deck.deal())\n",
    "    hand.adjust_for_ace()"
   ]
  },
  {
   "cell_type": "markdown",
   "id": "d9091951",
   "metadata": {},
   "source": [
    "## Hit or Stand"
   ]
  },
  {
   "cell_type": "code",
   "execution_count": 12,
   "id": "4b131e65",
   "metadata": {},
   "outputs": [],
   "source": [
    "def hit_or_stand(deck,hand):\n",
    "    \n",
    "    global playing  # to control while loop\n",
    "    \n",
    "    while True:\n",
    "        \n",
    "        x = input(\"Do you want to hit or stand? Please enter 'h' or 's'\")\n",
    "        \n",
    "        if x[0].lower() == 'h':\n",
    "             hit(deck,hand)\n",
    "                \n",
    "        elif x[0].lower() == 's':\n",
    "            print('Player stands. Dealer is playing.')\n",
    "            \n",
    "            playing = False\n",
    "            \n",
    "        else:\n",
    "            print('Unvalid Input. Try Again!')\n",
    "            continue\n",
    "        break"
   ]
  },
  {
   "cell_type": "markdown",
   "id": "12f11790",
   "metadata": {},
   "source": [
    "## Display Cards"
   ]
  },
  {
   "cell_type": "code",
   "execution_count": 13,
   "id": "52b1f304",
   "metadata": {},
   "outputs": [],
   "source": [
    "def show_some(player_hand,dealer_hand):\n",
    "    print(\"\\nDealer's Hand:\")\n",
    "    print(\" <card hidden>\")\n",
    "    \n",
    "    # 第一張維隱藏牌朝下,第二張為朝上顯示的牌, [0] hidden card(first card), [1] show card(second card)\n",
    "    print('',dealer_hand.cards[1])  \n",
    "    \n",
    "    # * means get every collection, So will be the every card of the player\n",
    "    print(\"\\nPlayer's Hand:\", *player_hand.cards, sep='\\n ')\n",
    "    \n",
    "def show_all(player,dealer):\n",
    "    print(\"\\nDealer's Hand:\", *dealer_hand.cards, sep='\\n ')\n",
    "    print(\"Dealer's Hand =\",dealer_hand.value)\n",
    "    print(\"\\nPlayer's Hand:\", *player_hand.cards, sep='\\n ')\n",
    "    print(\"Player's Hand =\",player_hand.value)"
   ]
  },
  {
   "cell_type": "code",
   "execution_count": 14,
   "id": "ae5f305f",
   "metadata": {},
   "outputs": [],
   "source": [
    "# When the game is over, there some ending situation\n",
    "\n",
    "def player_busts(player_hand,dealer_hand,chips):\n",
    "    print('Player busts!')\n",
    "    chips.lose_bet()\n",
    "    \n",
    "def player_wins(player_hand,dealer_hand,chips):\n",
    "    print('Player Won!')\n",
    "    chips.win_bet()\n",
    "    \n",
    "def dealer_busts(player_hand,dealer_hand,chips):\n",
    "    print('Dealer busts, Player Won!')\n",
    "    chips.win_bet()\n",
    "    \n",
    "def dealer_wins(player_hand,dealer_hand,chips):\n",
    "    print('Dealer Won!')\n",
    "    chips.lose_bet()\n",
    "    \n",
    "# 平局\n",
    "def push(player_hand,dealer_hand):\n",
    "    print(\"Dealer and Player tie! It's a push.\")"
   ]
  },
  {
   "cell_type": "markdown",
   "id": "2911cde5",
   "metadata": {},
   "source": [
    "## Combine all steps"
   ]
  },
  {
   "cell_type": "code",
   "execution_count": 15,
   "id": "7b797ed2",
   "metadata": {},
   "outputs": [
    {
     "name": "stdout",
     "output_type": "stream",
     "text": [
      "Welcome to BlackJack! Get as close to 21 as you can without going over!\n",
      "   Aces count as 1 or 11.\n",
      "How many chips do you want to bet? 50\n",
      "\n",
      "Dealer's Hand:\n",
      " <card hidden>\n",
      " Queen of Spades\n",
      "\n",
      "Player's Hand:\n",
      " Queen of Clubs\n",
      " Six of Hearts\n",
      "Do you want to hit or stand? Please enter 'h' or 's's\n",
      "Player stands. Dealer is playing.\n",
      "\n",
      "Dealer's Hand:\n",
      " <card hidden>\n",
      " Queen of Spades\n",
      "\n",
      "Player's Hand:\n",
      " Queen of Clubs\n",
      " Six of Hearts\n",
      "\n",
      "Dealer's Hand:\n",
      " Ten of Hearts\n",
      " Queen of Spades\n",
      "Dealer's Hand = 20\n",
      "\n",
      "Player's Hand:\n",
      " Queen of Clubs\n",
      " Six of Hearts\n",
      "Player's Hand = 16\n",
      "Dealer Won!\n",
      "\n",
      " Player total chips are at: 50\n",
      "Would you like to play it again? 'y' or 'n' y\n",
      "Welcome to BlackJack! Get as close to 21 as you can without going over!\n",
      "   Aces count as 1 or 11.\n",
      "How many chips do you want to bet? 30\n",
      "\n",
      "Dealer's Hand:\n",
      " <card hidden>\n",
      " Five of Hearts\n",
      "\n",
      "Player's Hand:\n",
      " Queen of Spades\n",
      " Jack of Diamonds\n",
      "Do you want to hit or stand? Please enter 'h' or 's's\n",
      "Player stands. Dealer is playing.\n",
      "\n",
      "Dealer's Hand:\n",
      " <card hidden>\n",
      " Five of Hearts\n",
      "\n",
      "Player's Hand:\n",
      " Queen of Spades\n",
      " Jack of Diamonds\n",
      "\n",
      "Dealer's Hand:\n",
      " Ace of Hearts\n",
      " Five of Hearts\n",
      " Queen of Clubs\n",
      " Three of Spades\n",
      " Ace of Spades\n",
      "Dealer's Hand = 20\n",
      "\n",
      "Player's Hand:\n",
      " Queen of Spades\n",
      " Jack of Diamonds\n",
      "Player's Hand = 20\n",
      "Dealer and Player tie! It's a push.\n",
      "\n",
      " Player total chips are at: 100\n",
      "Would you like to play it again? 'y' or 'n' n\n",
      "Thanks for playing!\n"
     ]
    }
   ],
   "source": [
    "while True:\n",
    "    # Print an opening statement\n",
    "    print('Welcome to BlackJack! Get as close to 21 as you can without going over!\\n\\\n",
    "   Aces count as 1 or 11.')\n",
    "    \n",
    "    # Create & shuffle the deck, deal two cards to each player\n",
    "    deck = Deck()\n",
    "    deck.shuffle()\n",
    "    \n",
    "    player_hand = Hand()\n",
    "    dealer_hand = Hand()\n",
    "    \n",
    "    for _ in range(2):\n",
    "        player_hand.add_card(deck.deal())\n",
    "        dealer_hand.add_card(deck.deal())\n",
    "            \n",
    "    # Set up the Player's chips\n",
    "    player_chips = Chips()  # remember the default value is 100    \n",
    "    \n",
    "    # Prompt the Player for their bet\n",
    "    take_bet(player_chips)\n",
    "    \n",
    "    # Show cards (but keep one dealer card hidden)\n",
    "    show_some(player_hand,dealer_hand)\n",
    "    \n",
    "    while playing:\n",
    "        \n",
    "        # player round\n",
    "        hit_or_stand(deck,player_hand)\n",
    "            \n",
    "        show_some(player_hand,dealer_hand)\n",
    "        \n",
    "        # if player's value is abobe 21, then player busts\n",
    "        if player_hand.value > 21:\n",
    "            player_busts(player_hand,dealer_hand,player_chips)\n",
    "            \n",
    "            break\n",
    "    \n",
    "    if player_hand.value <= 21:\n",
    "        \n",
    "        while dealer_hand.value < player_hand.value:\n",
    "            hit(deck,dealer_hand)\n",
    "            \n",
    "        # since dealer is playing, show all\n",
    "        show_all(player_hand,dealer_hand)\n",
    "        \n",
    "        if dealer_hand.value > 21:\n",
    "            dealer_busts(player_hand,dealer_hand,player_chips)\n",
    "        \n",
    "        elif dealer_hand.value > player_hand.value:\n",
    "            dealer_wins(player_hand,dealer_hand,player_chips)\n",
    "            \n",
    "        else:\n",
    "            push(player_hand,dealer_hand)\n",
    "            \n",
    "    # Inform Player of their chips tool\n",
    "    print('\\n Player total chips are at: {}'.format(player_chips.total))\n",
    "    \n",
    "    new_game = input(\"Would you like to play it again? 'y' or 'n' \")\n",
    "    \n",
    "    if new_game[0].lower() == 'y':\n",
    "        playing = True\n",
    "        continue\n",
    "    else:\n",
    "        print('Thanks for playing!')\n",
    "        break"
   ]
  }
 ],
 "metadata": {
  "kernelspec": {
   "display_name": "Python 3 (ipykernel)",
   "language": "python",
   "name": "python3"
  },
  "language_info": {
   "codemirror_mode": {
    "name": "ipython",
    "version": 3
   },
   "file_extension": ".py",
   "mimetype": "text/x-python",
   "name": "python",
   "nbconvert_exporter": "python",
   "pygments_lexer": "ipython3",
   "version": "3.11.5"
  }
 },
 "nbformat": 4,
 "nbformat_minor": 5
}
